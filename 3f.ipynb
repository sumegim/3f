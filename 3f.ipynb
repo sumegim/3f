{
 "cells": [
  {
   "cell_type": "code",
   "execution_count": 6,
   "metadata": {},
   "outputs": [
    {
     "name": "stdout",
     "output_type": "stream",
     "text": [
      "The winner is:  C\n"
     ]
    }
   ],
   "source": [
    "import random\n",
    "\n",
    "options = [\n",
    "\"A\",\n",
    "\"B\",\n",
    "\"C\",\n",
    "\"D\",\n",
    "\"E\",\n",
    "]\n",
    "\n",
    "random.seed(str(options))\n",
    "random_index = random.randint(0, len(options))\n",
    "print(\"The winner is: \", options[random_index])"
   ]
  }
 ],
 "metadata": {
  "kernelspec": {
   "display_name": "Python 3",
   "language": "python",
   "name": "python3"
  },
  "language_info": {
   "codemirror_mode": {
    "name": "ipython",
    "version": 3
   },
   "file_extension": ".py",
   "mimetype": "text/x-python",
   "name": "python",
   "nbconvert_exporter": "python",
   "pygments_lexer": "ipython3",
   "version": "3.6.7"
  }
 },
 "nbformat": 4,
 "nbformat_minor": 2
}
